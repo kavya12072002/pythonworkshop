{
 "cells": [
  {
   "cell_type": "markdown",
   "metadata": {},
   "source": [
    "### Todays concepts\n",
    "- OOPs\n",
    "- Regular Expressions\n",
    "- Files\n",
    "- Matplotib\n",
    "\n",
    "\n",
    "\n"
   ]
  },
  {
   "cell_type": "code",
   "execution_count": null,
   "metadata": {},
   "outputs": [],
   "source": [
    "#object oriented programming\n",
    "#object: instance of class\n",
    "#its having propertie(var) and actions(method)\n",
    "#syntax:\n",
    "#class className:\n",
    "    #variables\n",
    "    #methods"
   ]
  },
  {
   "cell_type": "code",
   "execution_count": 27,
   "metadata": {},
   "outputs": [],
   "source": [
    "class Student:\n",
    "    pass"
   ]
  },
  {
   "cell_type": "code",
   "execution_count": 28,
   "metadata": {},
   "outputs": [],
   "source": [
    "#  to create a object:\n",
    "#syntax:\n",
    "#var = classname()\n",
    "s = Student()"
   ]
  },
  {
   "cell_type": "code",
   "execution_count": 29,
   "metadata": {},
   "outputs": [],
   "source": [
    "class Student:\n",
    "    x = 10\n",
    "    y = 20\n",
    "    def Display(self):\n",
    "        name = input('enter name of the student:')\n",
    "        print('hello',name)"
   ]
  },
  {
   "cell_type": "code",
   "execution_count": 31,
   "metadata": {},
   "outputs": [
    {
     "name": "stdout",
     "output_type": "stream",
     "text": [
      "enter name of the student:kavya\n",
      "hello kavya\n"
     ]
    }
   ],
   "source": [
    "Student().x\n",
    "Student().y\n",
    "s = Student()\n",
    "s.x\n",
    "s.Display()\n"
   ]
  },
  {
   "cell_type": "code",
   "execution_count": null,
   "metadata": {},
   "outputs": [],
   "source": [
    "#  Constructer:\n",
    "# Syntax:\n",
    "# __init__(self)\n",
    "    # Statements"
   ]
  },
  {
   "cell_type": "code",
   "execution_count": 35,
   "metadata": {},
   "outputs": [],
   "source": [
    "class Cse:\n",
    "    sections = 3\n",
    "    year = 2\n",
    "    def __init__(self):\n",
    "        print('This is constructer')\n",
    "    def Details(self):\n",
    "        print('hello {} year having {} sections'.format(Cse.year,Cse.sections))"
   ]
  },
  {
   "cell_type": "code",
   "execution_count": 36,
   "metadata": {},
   "outputs": [
    {
     "name": "stdout",
     "output_type": "stream",
     "text": [
      "This is constructer\n",
      "hello 2 year having 3 sections\n"
     ]
    }
   ],
   "source": [
    "c = Cse()\n",
    "c.Details()"
   ]
  },
  {
   "cell_type": "code",
   "execution_count": 41,
   "metadata": {},
   "outputs": [],
   "source": [
    "class Cse:\n",
    "    sections = 3\n",
    "    year = 2\n",
    "    def __init__(self,sections,year):\n",
    "        print('This is constructer')\n",
    "        self.sections = sections\n",
    "        self.year = year\n",
    "    def Details(self):\n",
    "        print('hello {} year having {} sections'.format(Cse.year,Cse.sections))"
   ]
  },
  {
   "cell_type": "code",
   "execution_count": 42,
   "metadata": {},
   "outputs": [
    {
     "name": "stdout",
     "output_type": "stream",
     "text": [
      "This is constructer\n"
     ]
    }
   ],
   "source": [
    "c = Cse(3,2)"
   ]
  },
  {
   "cell_type": "code",
   "execution_count": 58,
   "metadata": {},
   "outputs": [],
   "source": [
    "class Parent:\n",
    "    x = 10\n",
    "    y = 20\n",
    "    def M1(self):\n",
    "        print('Parent method..')\n",
    "class Child:\n",
    "        z = 133\n",
    "        def __init__(self):\n",
    "            self.parent = Parent()\n",
    "        def M2(self):\n",
    "            print(self.parent.x)\n",
    "            print(self.parent.y)\n",
    "            print(Child().z)\n",
    "            self.parent.M1()\n",
    "            "
   ]
  },
  {
   "cell_type": "code",
   "execution_count": 59,
   "metadata": {},
   "outputs": [
    {
     "name": "stdout",
     "output_type": "stream",
     "text": [
      "10\n",
      "20\n",
      "133\n",
      "Parent method..\n"
     ]
    }
   ],
   "source": [
    "c = Child()\n",
    "c.M2()"
   ]
  },
  {
   "cell_type": "code",
   "execution_count": 60,
   "metadata": {},
   "outputs": [
    {
     "name": "stdout",
     "output_type": "stream",
     "text": [
      "class A method\n"
     ]
    }
   ],
   "source": [
    "# Is - A Relation:\n",
    "class A:\n",
    "    x = 20\n",
    "    y = 30\n",
    "    def m1(self):\n",
    "        print('class A method')\n",
    "class B(A):\n",
    "    z = 40\n",
    "    def m2(self):\n",
    "        print('class B method..')\n",
    "obj = B()\n",
    "obj.m1()"
   ]
  },
  {
   "cell_type": "code",
   "execution_count": 2,
   "metadata": {},
   "outputs": [],
   "source": [
    "# Multi Level inheritance\n",
    "class Parent:\n",
    "    name = 'kavya'\n",
    "    company = 'APSSDC'\n",
    "    def m1(self):\n",
    "        print('Hello',Parent.name,'welcome to',Parent.company)\n",
    "class Child(Parent):\n",
    "    name1 = 'sri'\n",
    "    company = 'APSSDC'\n",
    "    def m2(self):\n",
    "        print('Hello',Child.name1,'welcome to',Child.company)\n",
    "class SubChild(Child):\n",
    "    name2 = 'ram'\n",
    "    company = 'APSSDc'\n",
    "    def m3(self):\n",
    "        print('Hello',SubChild.name2,'welcome to',SubChild.company)"
   ]
  },
  {
   "cell_type": "code",
   "execution_count": 6,
   "metadata": {},
   "outputs": [
    {
     "name": "stdout",
     "output_type": "stream",
     "text": [
      "Hello kavya welcome to APSSDC\n",
      "Hello sri welcome to APSSDC\n",
      "Hello ram welcome to APSSDc\n"
     ]
    }
   ],
   "source": [
    "s = SubChild()\n",
    "s.m1()\n",
    "s.m2()\n",
    "s.m3()\n"
   ]
  },
  {
   "cell_type": "markdown",
   "metadata": {},
   "source": [
    "# Regulation Expression\n",
    "+ Regular Expressions using patterns\n",
    "- By using regular expression in python we can one module i.e import**re**\n",
    "- Regular expressions syntax --->modulename.methodname(pattern,value or variablenames)\n",
    "\n",
    "# Methods\n",
    "+ search\n",
    "- math\n",
    "+ findall\n",
    "\n",
    "# patterns\n",
    "+ ^ - matches the beginning of a line\n",
    "+ $ - matches the end of the line\n",
    "+ . - matches any character\n",
    "* + - repeats a character one or more times\n",
    "+ * - repeats a character zero or more times\n",
    "+ \\d - matches digits\n",
    "+ \\D - except digits\n",
    "+ \\s - matches whitespaces\n",
    "+ \\S - matches any non-whitespace character\n",
    "+ \\w - without special characters\n",
    "+ \\W - matches special characters\n",
    "+ ( - indicates where string extraction is to start\n",
    "+ ) - indicates where string extraction is to end\n",
    "+  [a-z 0-9] - the set of characters can include a range\n",
    "+ +? - repeats a character one or more time\n",
    "+ *? - repeats a character zero or more times\n",
    "+ [aeiou] - matches a single character in the listed set\n"
   ]
  },
  {
   "cell_type": "code",
   "execution_count": 8,
   "metadata": {},
   "outputs": [],
   "source": [
    "import re"
   ]
  },
  {
   "cell_type": "code",
   "execution_count": 9,
   "metadata": {},
   "outputs": [
    {
     "data": {
      "text/plain": [
       "<re.Match object; span=(0, 1), match='p'>"
      ]
     },
     "execution_count": 9,
     "metadata": {},
     "output_type": "execute_result"
    }
   ],
   "source": [
    "re.search('^p','python workshop')"
   ]
  },
  {
   "cell_type": "code",
   "execution_count": 11,
   "metadata": {},
   "outputs": [
    {
     "data": {
      "text/plain": [
       "<re.Match object; span=(13, 14), match='p'>"
      ]
     },
     "execution_count": 11,
     "metadata": {},
     "output_type": "execute_result"
    }
   ],
   "source": [
    "re.search('p$','pythonworkshop')"
   ]
  },
  {
   "cell_type": "code",
   "execution_count": 14,
   "metadata": {},
   "outputs": [
    {
     "data": {
      "text/plain": [
       "<re.Match object; span=(0, 10), match='pythonwork'>"
      ]
     },
     "execution_count": 14,
     "metadata": {},
     "output_type": "execute_result"
    }
   ],
   "source": [
    "re.search('..........','pythonworkshop')"
   ]
  },
  {
   "cell_type": "code",
   "execution_count": 15,
   "metadata": {},
   "outputs": [
    {
     "data": {
      "text/plain": [
       "['2', '3', '0', '1', '2', '0', '2', '1']"
      ]
     },
     "execution_count": 15,
     "metadata": {},
     "output_type": "execute_result"
    }
   ],
   "source": [
    "re.findall('\\d','23-01-2021python')"
   ]
  },
  {
   "cell_type": "code",
   "execution_count": 16,
   "metadata": {},
   "outputs": [
    {
     "data": {
      "text/plain": [
       "['-', '-', 'p', 'y', 't', 'h', 'o', 'n']"
      ]
     },
     "execution_count": 16,
     "metadata": {},
     "output_type": "execute_result"
    }
   ],
   "source": [
    "re.findall('\\D','23-01-2021python')"
   ]
  },
  {
   "cell_type": "code",
   "execution_count": 18,
   "metadata": {},
   "outputs": [
    {
     "data": {
      "text/plain": [
       "['w',\n",
       " 'e',\n",
       " 'l',\n",
       " 'c',\n",
       " 'o',\n",
       " 'm',\n",
       " 'e',\n",
       " '@',\n",
       " 't',\n",
       " 'o',\n",
       " 'p',\n",
       " 'y',\n",
       " 't',\n",
       " 'h',\n",
       " 'o',\n",
       " 'n',\n",
       " '&',\n",
       " 'w',\n",
       " 'o',\n",
       " 'r',\n",
       " 'k',\n",
       " 's',\n",
       " 'h',\n",
       " 'o',\n",
       " 'p']"
      ]
     },
     "execution_count": 18,
     "metadata": {},
     "output_type": "execute_result"
    }
   ],
   "source": [
    "x = 'welcome@ to python& workshop'\n",
    "re.findall('\\s',x)\n",
    "re.findall('\\S',x)"
   ]
  },
  {
   "cell_type": "code",
   "execution_count": 23,
   "metadata": {},
   "outputs": [
    {
     "data": {
      "text/plain": [
       "['s',\n",
       " 'a',\n",
       " 'i',\n",
       " '1',\n",
       " '2',\n",
       " '3',\n",
       " '_',\n",
       " 'p',\n",
       " 'g',\n",
       " 'm',\n",
       " 'a',\n",
       " 'i',\n",
       " 'l',\n",
       " 'c',\n",
       " 'o',\n",
       " 'm']"
      ]
     },
     "execution_count": 23,
     "metadata": {},
     "output_type": "execute_result"
    }
   ],
   "source": [
    "re.search('\\W','sai123_p@gmail.com')\n",
    "re.findall('\\W','sai123_p@gmail.com')\n",
    "re.findall('\\w','sai123_p@gmail.com')"
   ]
  },
  {
   "cell_type": "code",
   "execution_count": 30,
   "metadata": {},
   "outputs": [
    {
     "data": {
      "text/plain": [
       "<re.Match object; span=(0, 10), match='8919066478'>"
      ]
     },
     "execution_count": 30,
     "metadata": {},
     "output_type": "execute_result"
    }
   ],
   "source": [
    "# mobile pattern\n",
    "re.search('^[6-9][0-9]{9}|[0][6-9][0-9]{9}|[+][9][1][6-9][0-9]{9}$','8919066478')"
   ]
  },
  {
   "cell_type": "code",
   "execution_count": null,
   "metadata": {},
   "outputs": [],
   "source": [
    "# mail pattern\n",
    "re.search('^[A-Za-z.][.][0-9]{1,15}+[@]p@[A-Za-z]{7}[.][a-z]{3}$','sairam09._')"
   ]
  },
  {
   "cell_type": "code",
   "execution_count": null,
   "metadata": {},
   "outputs": [],
   "source": []
  }
 ],
 "metadata": {
  "kernelspec": {
   "display_name": "Python 3",
   "language": "python",
   "name": "python3"
  },
  "language_info": {
   "codemirror_mode": {
    "name": "ipython",
    "version": 3
   },
   "file_extension": ".py",
   "mimetype": "text/x-python",
   "name": "python",
   "nbconvert_exporter": "python",
   "pygments_lexer": "ipython3",
   "version": "3.8.5"
  }
 },
 "nbformat": 4,
 "nbformat_minor": 4
}
