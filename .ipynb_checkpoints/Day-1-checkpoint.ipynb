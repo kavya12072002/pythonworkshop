{
 "cells": [
  {
   "cell_type": "markdown",
   "metadata": {},
   "source": [
    "# both italic and bold\n",
    "***kavya***"
   ]
  },
  {
   "cell_type": "markdown",
   "metadata": {},
   "source": [
    "# Bullet Points\n",
    "* Language\n",
    "- Webpages\n",
    "* Documents"
   ]
  },
  {
   "cell_type": "markdown",
   "metadata": {},
   "source": [
    "* Languages\n",
    "    - cLang\n",
    "    + python\n",
    "    * java\n",
    "\n",
    "    \n",
    "    \n",
    "    "
   ]
  },
  {
   "cell_type": "markdown",
   "metadata": {},
   "source": [
    "- Webpages\n",
    "    + html\n",
    "    - css\n",
    "    - js"
   ]
  },
  {
   "cell_type": "markdown",
   "metadata": {},
   "source": [
    "+ Documents\n",
    "    + ms word\n",
    "    - markdown\n",
    "    + technical"
   ]
  },
  {
   "cell_type": "markdown",
   "metadata": {},
   "source": [
    "[Pacecollege](https://pace.ac.in)"
   ]
  },
  {
   "cell_type": "markdown",
   "metadata": {},
   "source": [
    "# Python Programming\n",
    "# Introduction to Python\n",
    "# History of Python\n",
    "# Features of Python\n",
    "# Keywords or Reservedwords in Python\n",
    "# Operators in Python"
   ]
  },
  {
   "cell_type": "markdown",
   "metadata": {},
   "source": [
    "# Introduction to Python\n",
    "#### In Python We have 5 different keys\n",
    "   + HighLevel Language\n",
    "   - Object Oriented Programming(oops)\n",
    "   * Interpeted\n",
    "   - Dynamic Programming\n",
    "   * Multilevel Programming\n",
    "   \n",
    "   \n",
    "   \n",
    "# History of python\n",
    "## Monty `Python` fly circus\n",
    "   + In 1989 started Impimentation of python with version 0.9\n",
    "   + In 1991 Implimented 0.9 version\n",
    "   + In 1994 Implimented 1.0 version with features of lambda,map,filter,reduce\n",
    "   + In 2000 Implimented 2.0 version with features of datastructures Like List,Tuple,Dictionary,Sets,...etc\n",
    "   + In 2008 Republised 3.0 version with features large no of libraries,grabagecollection and fastworking updating\n",
    "\n",
    "\n",
    "\n",
    "# Features of python\n",
    "+ Easy to Learn & Easy to Write\n",
    "+ Crossplatform\n",
    "+ Scalable\n",
    "+ Portable\n",
    "- Scripting"
   ]
  },
  {
   "cell_type": "code",
   "execution_count": null,
   "metadata": {},
   "outputs": [],
   "source": [
    "# Keywords or Reservedwords in Python\n",
    "import keyword\n",
    "\n",
    "dir(keyword)\n",
    "\n",
    "keyword.kwlist\n"
   ]
  },
  {
   "cell_type": "code",
   "execution_count": null,
   "metadata": {},
   "outputs": [],
   "source": [
    "help()"
   ]
  },
  {
   "cell_type": "markdown",
   "metadata": {},
   "source": [
    "# Operators\n",
    "\n",
    "\n",
    "+ Arthematic Operator (+,-,*,/,%,**,//)\n",
    "+ Relational or Comparision Operator (>,<,<=,>=,==,!=)\n",
    "+ Assignment Operators(+=,-=,*=,/=,**=,//=)\n",
    "+ Logical Operator (and, or, not)\n",
    "+ Bitwise Operator (&,|,^,>>,<<)\n",
    "+ Membership Operator (in, not in)\n",
    "+ Identity Operator (is, is not)"
   ]
  },
  {
   "cell_type": "code",
   "execution_count": 2,
   "metadata": {},
   "outputs": [
    {
     "name": "stdout",
     "output_type": "stream",
     "text": [
      "30\n",
      "-10\n",
      "200\n",
      "0.5\n",
      "10\n",
      "100000000000000000000\n",
      "100000000000000000000\n",
      "0\n"
     ]
    }
   ],
   "source": [
    "a=10\n",
    "b=20\n",
    "print(a+b)\n",
    "print(a-b)\n",
    "print(a*b)\n",
    "print(a/b)\n",
    "print(a%b)\n",
    "print(a**b)\n",
    "print(pow(10,20))\n",
    "print(a//b)"
   ]
  },
  {
   "cell_type": "code",
   "execution_count": 3,
   "metadata": {},
   "outputs": [
    {
     "name": "stdout",
     "output_type": "stream",
     "text": [
      "True\n",
      "False\n",
      "False\n",
      "True\n"
     ]
    }
   ],
   "source": [
    "# Relational Operators\n",
    "\n",
    "x=100\n",
    "y=90\n",
    "\n",
    "print(x>y)\n",
    "print(x<y)\n",
    "print(x==y)\n",
    "print(x!=y)"
   ]
  },
  {
   "cell_type": "code",
   "execution_count": 6,
   "metadata": {},
   "outputs": [
    {
     "name": "stdout",
     "output_type": "stream",
     "text": [
      "46656.0\n"
     ]
    }
   ],
   "source": [
    "# Assignment Operators\n",
    "\n",
    "p=10\n",
    "p+=40\n",
    "p-=20\n",
    "p*=2\n",
    "p/=3\n",
    "p//=3\n",
    "p**=6\n",
    "\n",
    "print(p)"
   ]
  },
  {
   "cell_type": "code",
   "execution_count": 7,
   "metadata": {},
   "outputs": [
    {
     "name": "stdout",
     "output_type": "stream",
     "text": [
      "False\n",
      "False\n",
      "False\n",
      "True\n"
     ]
    }
   ],
   "source": [
    "# Logical Operator \n",
    "#And\n",
    "print(False and False)\n",
    "print(False and True)\n",
    "print(True and False)\n",
    "print(True and True)"
   ]
  },
  {
   "cell_type": "code",
   "execution_count": 12,
   "metadata": {},
   "outputs": [
    {
     "name": "stdout",
     "output_type": "stream",
     "text": [
      "False\n",
      "True\n",
      "True\n",
      "True\n"
     ]
    }
   ],
   "source": [
    "# Or\n",
    "print(False or False)\n",
    "print(False or True)\n",
    "print(True or False)\n",
    "print(True or True)"
   ]
  },
  {
   "cell_type": "code",
   "execution_count": 13,
   "metadata": {},
   "outputs": [
    {
     "name": "stdout",
     "output_type": "stream",
     "text": [
      "True\n",
      "True\n",
      "True\n",
      "False\n"
     ]
    }
   ],
   "source": [
    "# not\n",
    "print(not(False and False))\n",
    "print(not(False and True))\n",
    "print(not(True and False))\n",
    "print(not(True and True))"
   ]
  },
  {
   "cell_type": "code",
   "execution_count": 14,
   "metadata": {},
   "outputs": [
    {
     "name": "stdout",
     "output_type": "stream",
     "text": [
      "True\n",
      "False\n",
      "False\n",
      "False\n"
     ]
    }
   ],
   "source": [
    "# not\n",
    "print(not(False or False))\n",
    "print(not(False or True))\n",
    "print(not(True or False))\n",
    "print(not(True or True))"
   ]
  },
  {
   "cell_type": "code",
   "execution_count": 16,
   "metadata": {},
   "outputs": [
    {
     "name": "stdout",
     "output_type": "stream",
     "text": [
      "True\n",
      "True\n",
      "False\n",
      "False\n",
      "True\n",
      "False\n"
     ]
    }
   ],
   "source": [
    "print(10>5 and 20>8)\n",
    "print(100>101 or 99>50)\n",
    "print(50>55 and 45>100)\n",
    "print(5==5 and 5!=5)\n",
    "print(5==5 or 5!=5)\n",
    "print(not(10==10) and 50!=40)"
   ]
  },
  {
   "cell_type": "code",
   "execution_count": 17,
   "metadata": {},
   "outputs": [
    {
     "data": {
      "text/plain": [
       "'0b10'"
      ]
     },
     "execution_count": 17,
     "metadata": {},
     "output_type": "execute_result"
    }
   ],
   "source": [
    "# Bitwise Operators\n",
    "\n",
    "2&2\n",
    "\n",
    "bin(2)"
   ]
  },
  {
   "cell_type": "code",
   "execution_count": 20,
   "metadata": {},
   "outputs": [
    {
     "name": "stdout",
     "output_type": "stream",
     "text": [
      "2\n",
      "15\n",
      "1\n"
     ]
    }
   ],
   "source": [
    "# Bitwise Operator\n",
    "print(2&2)\n",
    "print(10|5)\n",
    "print(5^4)"
   ]
  },
  {
   "cell_type": "code",
   "execution_count": 23,
   "metadata": {},
   "outputs": [
    {
     "name": "stdout",
     "output_type": "stream",
     "text": [
      "True\n",
      "True\n"
     ]
    }
   ],
   "source": [
    "# Membership Operator\n",
    "\n",
    "a=\"Welcome to python workshop\"\n",
    "print('to' in a)\n",
    "print('hello' not in a)"
   ]
  },
  {
   "cell_type": "code",
   "execution_count": 27,
   "metadata": {},
   "outputs": [
    {
     "name": "stdout",
     "output_type": "stream",
     "text": [
      "False\n",
      "False\n",
      "True\n"
     ]
    }
   ],
   "source": [
    "# Identity Operators\n",
    "\n",
    "x=100\n",
    "y=1000\n",
    "print(x is y)\n",
    "print(x==y)\n",
    "print(x is not y)"
   ]
  },
  {
   "cell_type": "code",
   "execution_count": 28,
   "metadata": {},
   "outputs": [
    {
     "name": "stdout",
     "output_type": "stream",
     "text": [
      "10\n",
      "10\n",
      "10\n"
     ]
    }
   ],
   "source": [
    "a=b=c=10\n",
    "\n",
    "print(a)\n",
    "print(b)\n",
    "print(c)"
   ]
  },
  {
   "cell_type": "code",
   "execution_count": 29,
   "metadata": {},
   "outputs": [
    {
     "name": "stdout",
     "output_type": "stream",
     "text": [
      "10\n",
      "20\n",
      "30\n"
     ]
    }
   ],
   "source": [
    "a,b,c=10,20,30\n",
    "print(a)\n",
    "print(b)\n",
    "print(c)"
   ]
  },
  {
   "cell_type": "code",
   "execution_count": 3,
   "metadata": {},
   "outputs": [
    {
     "name": "stdout",
     "output_type": "stream",
     "text": [
      "Addition of two numbers is 110\n"
     ]
    }
   ],
   "source": [
    "a=10\n",
    "b=100\n",
    "print(\"Addition of two numbers is\",a+b)"
   ]
  },
  {
   "cell_type": "code",
   "execution_count": 22,
   "metadata": {},
   "outputs": [
    {
     "name": "stdout",
     "output_type": "stream",
     "text": [
      "Addition of 10 + 100 = 110\n",
      "sum of 10 + 100 = 110\n"
     ]
    }
   ],
   "source": [
    "a=10\n",
    "b=100\n",
    "print('Addition of',a,'+',b,'=',a+b)\n",
    "print('sum of %d + %d = %d'%(a,b,a+b))"
   ]
  },
  {
   "cell_type": "code",
   "execution_count": 24,
   "metadata": {},
   "outputs": [
    {
     "name": "stdout",
     "output_type": "stream",
     "text": [
      "enter the x value:-100\n",
      "enter the y value:-200\n",
      "Addition of 100 + 200 = 300\n"
     ]
    }
   ],
   "source": [
    "# Dynamic Values\n",
    "x=int(input('enter the x value:-'))\n",
    "y=int(input('enter the y value:-'))\n",
    "print(\"Addition of %d + %d = %d\"%(x,y,x+y))"
   ]
  },
  {
   "cell_type": "markdown",
   "metadata": {},
   "source": [
    "# Expression\n",
    "\n",
    "1. Take 5 inputs from user\n",
    "2. to perform operation\n",
    "3. store result in variable\n",
    "4. print that final rasult"
   ]
  },
  {
   "cell_type": "code",
   "execution_count": 30,
   "metadata": {},
   "outputs": [
    {
     "name": "stdout",
     "output_type": "stream",
     "text": [
      "enter a value:5\n",
      "enter b value:5\n",
      "enter c value:5\n",
      "enter d value:5\n",
      "enter e value:5\n",
      "final result is 25\n"
     ]
    }
   ],
   "source": [
    "a=int(input(\"enter a value:\"))\n",
    "b=int(input(\"enter b value:\"))\n",
    "c=int(input(\"enter c value:\"))\n",
    "d=int(input(\"enter d value:\"))\n",
    "e=int(input(\"enter e value:\"))\n",
    "result=a+b+c+d+e\n",
    "print('final result is',result)"
   ]
  },
  {
   "cell_type": "markdown",
   "metadata": {},
   "source": [
    "## Syntax\n",
    "\n",
    "if condition:\n",
    "    statements\n",
    "    \n",
    "elif condition:\n",
    "    statements\n",
    "\n",
    "else:\n",
    "    statements"
   ]
  },
  {
   "cell_type": "code",
   "execution_count": 27,
   "metadata": {},
   "outputs": [
    {
     "name": "stdout",
     "output_type": "stream",
     "text": [
      "Enter the value11\n",
      "11 is Odd Number\n"
     ]
    }
   ],
   "source": [
    "n1=int(input('Enter the value'))\n",
    "if n1%2==0:\n",
    "    print(n1,'is Even Number')\n",
    "else:\n",
    "    print(n1,'is Odd Number')"
   ]
  },
  {
   "cell_type": "code",
   "execution_count": 29,
   "metadata": {},
   "outputs": [
    {
     "name": "stdout",
     "output_type": "stream",
     "text": [
      "Enter the value52\n",
      "52 is Even Number\n"
     ]
    }
   ],
   "source": [
    "n2=int(input('Enter the value'))\n",
    "if n2%2!=0:\n",
    "    print(n2,'is Odd Number')\n",
    "else:\n",
    "    print(n2,'is Even Number')"
   ]
  },
  {
   "cell_type": "code",
   "execution_count": 31,
   "metadata": {},
   "outputs": [
    {
     "data": {
      "text/plain": [
       "complex"
      ]
     },
     "execution_count": 31,
     "metadata": {},
     "output_type": "execute_result"
    }
   ],
   "source": [
    "c=10+6j\n",
    "type(c)"
   ]
  },
  {
   "cell_type": "code",
   "execution_count": null,
   "metadata": {},
   "outputs": [],
   "source": [
    "comparing versions\n",
    "First version and second version print statement is\n",
    "print a+b\n",
    "by using input method\n",
    "raw_input"
   ]
  },
  {
   "cell_type": "code",
   "execution_count": null,
   "metadata": {},
   "outputs": [],
   "source": [
    "a=10\n",
    "b=20\n",
    "print(a+b)"
   ]
  },
  {
   "cell_type": "code",
   "execution_count": null,
   "metadata": {},
   "outputs": [],
   "source": [
    "a=10\n",
    "b=20\n",
    "a+b"
   ]
  },
  {
   "cell_type": "code",
   "execution_count": null,
   "metadata": {},
   "outputs": [],
   "source": [
    "a=\"Sri\"\n",
    "type(a)"
   ]
  },
  {
   "cell_type": "code",
   "execution_count": null,
   "metadata": {},
   "outputs": [],
   "source": []
  }
 ],
 "metadata": {
  "kernelspec": {
   "display_name": "Python 3",
   "language": "python",
   "name": "python3"
  },
  "language_info": {
   "codemirror_mode": {
    "name": "ipython",
    "version": 3
   },
   "file_extension": ".py",
   "mimetype": "text/x-python",
   "name": "python",
   "nbconvert_exporter": "python",
   "pygments_lexer": "ipython3",
   "version": "3.8.5"
  }
 },
 "nbformat": 4,
 "nbformat_minor": 4
}
