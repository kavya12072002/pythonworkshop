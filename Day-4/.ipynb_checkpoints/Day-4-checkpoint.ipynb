{
 "cells": [
  {
   "cell_type": "code",
   "execution_count": null,
   "metadata": {},
   "outputs": [],
   "source": []
  },
  {
   "cell_type": "code",
   "execution_count": null,
   "metadata": {},
   "outputs": [],
   "source": [
    "alphabets=digits=specialcharacters=0\n",
    "for i in range(len(s)):\n",
    "    if(s[i].isalph())\n",
    "        alphabets+=alphabets\n",
    "elif (s[i].is digit()):\n",
    "    else:\n",
    "           s=insput('Enter a string: ')\n",
    "     special characters+=special characters\n",
    "print('no.of alphabets = ',alphabets)\n",
    "print('no.of digits = ',digits)\n",
    "print('no.of special characters= ',special characters)\n",
    "    "
   ]
  }
 ],
 "metadata": {
  "kernelspec": {
   "display_name": "Python 3",
   "language": "python",
   "name": "python3"
  },
  "language_info": {
   "codemirror_mode": {
    "name": "ipython",
    "version": 3
   },
   "file_extension": ".py",
   "mimetype": "text/x-python",
   "name": "python",
   "nbconvert_exporter": "python",
   "pygments_lexer": "ipython3",
   "version": "3.8.5"
  }
 },
 "nbformat": 4,
 "nbformat_minor": 4
}
